{
 "cells": [
  {
   "cell_type": "code",
   "execution_count": null,
   "metadata": {},
   "outputs": [],
   "source": [
    "import xarray as xr\n",
    "import numpy as np\n",
    "\n",
    "path1 = 'slope_GRACE_GWS_with_ERA5.nc'\n",
    "\n",
    "olr=xr.open_dataset(path1)#model\n",
    "#path2='F://sst.nc'\n",
    "path2='reaeigw.nc'\n",
    "da = xr.open_dataset(path2)#change resolution\n",
    "aeigw0 = da['aeigw0']\n",
    "#插值的过程\n",
    "aeigw0= aeigw0.interp(lat=olr.lat.values, lon=olr.lon.values, method='nearest')\n",
    "aeigw0\n",
    "#print(\"aeigw0\", aeigw0)\n",
    "#aeigw0.to_netcdf('aeigw0.nc')"
   ]
  }
 ],
 "metadata": {
  "kernelspec": {
   "display_name": "Python 3",
   "language": "python",
   "name": "python3"
  },
  "language_info": {
   "codemirror_mode": {
    "name": "ipython",
    "version": 3
   },
   "file_extension": ".py",
   "mimetype": "text/x-python",
   "name": "python",
   "nbconvert_exporter": "python",
   "pygments_lexer": "ipython3",
   "version": "3.8.5"
  }
 },
 "nbformat": 4,
 "nbformat_minor": 4
}
