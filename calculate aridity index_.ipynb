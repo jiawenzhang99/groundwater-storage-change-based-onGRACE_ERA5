{
 "cells": [
  {
   "cell_type": "code",
   "execution_count": null,
   "metadata": {},
   "outputs": [],
   "source": [
    "import xarray as xr\n",
    "# import cartopy.crs as ccrs\n",
    "import numpy as np\n",
    "# import pandas as pd\n",
    "# from pandas import read_csv\n",
    "# import datetime as dt\n",
    "import matplotlib.pyplot as plt\n",
    "import time\n",
    "import pymannkendall_modified as mk\n",
    "\n",
    "start_time = time.time()\n",
    "#calculate precipitation mean\n",
    "ds1 = xr.open_dataset('F:/twopaper/cru1dupre/cru20012010pre.nc')\n",
    "ds2 = xr.open_dataset('F:/twopaper/cru1dupre/cru20112020pre.nc')\n",
    "ds3 = xr.open_dataset('F:/twopaper/cru1dupre/cru20212022pre.nc')\n",
    "con = xr.concat([ds1, ds2, ds3], \"time\")\n",
    "\n",
    "con1 = con.sel(lat=slice(90, -60))\n",
    "con2 = con1.sel(time=slice('2003-01-16T00:00:00.000000000', '2022-12-30T00:00:00.000000000'))\n",
    "\n",
    "\n",
    "pre_mean = con2['pre'].mean(dim='time')\n",
    "pre_mean\n",
    "#pre_mean.to_netcdf('premean_test.nc')\n",
    "\n",
    "#resample evaporatrasnpiration\n",
    "path1 = 'slope_GRACE_GWS_with_ERA5.nc'\n",
    "olr=xr.open_dataset(path1)\n",
    "\n",
    "path2='F:/Ep_2003-2022_GLEAM_v3.7b_MO.nc'\n",
    "\n",
    "da = xr.open_dataset(path2)\n",
    "Ep = da['Ep']\n",
    "\n",
    "Ep= Ep.interp(lat=olr.lat.values, lon=olr.lon.values, method='nearest')\n",
    "et0 = Ep.sel(lat=slice(90, -60))\n",
    "ep_mean = et0.mean(dim='time')\n",
    "\n",
    "#calculate aridity index\n",
    "aridityindex=pre_mean/ep_mean\n",
    "map_data = aridityindex\n",
    "map_data.plot(robust=True, cmap=plt.cm.viridis)\n",
    "plt.xlabel('longitude')\n",
    "plt.ylabel('latitude')\n",
    "#plt.axes().set_aspect('equal')\n",
    "#plt.title('Sign. of Trend (p-val.) in GWS from GRACE 2003-2022')\n",
    "plt.tight_layout()\n",
    "plt.show()"
   ]
  }
 ],
 "metadata": {
  "kernelspec": {
   "display_name": "Python 3",
   "language": "python",
   "name": "python3"
  },
  "language_info": {
   "codemirror_mode": {
    "name": "ipython",
    "version": 3
   },
   "file_extension": ".py",
   "mimetype": "text/x-python",
   "name": "python",
   "nbconvert_exporter": "python",
   "pygments_lexer": "ipython3",
   "version": "3.8.5"
  }
 },
 "nbformat": 4,
 "nbformat_minor": 4
}
